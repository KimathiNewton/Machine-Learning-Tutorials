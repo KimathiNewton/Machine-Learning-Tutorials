{
  "nbformat": 4,
  "nbformat_minor": 0,
  "metadata": {
    "colab": {
      "provenance": [],
      "collapsed_sections": [
        "n4VFUnkuexCE",
        "UfOADQf0e9i1"
      ],
      "authorship_tag": "ABX9TyOJvmnS6nNwLjkBIm/XWcXg",
      "include_colab_link": true
    },
    "kernelspec": {
      "name": "python3",
      "display_name": "Python 3"
    },
    "language_info": {
      "name": "python"
    }
  },
  "cells": [
    {
      "cell_type": "markdown",
      "metadata": {
        "id": "view-in-github",
        "colab_type": "text"
      },
      "source": [
        "<a href=\"https://colab.research.google.com/github/eaedk/Machine-Learning-Tutorials/blob/main/ML_Step_By_Step_Guide.ipynb\" target=\"_parent\"><img src=\"https://colab.research.google.com/assets/colab-badge.svg\" alt=\"Open In Colab\"/></a>"
      ]
    },
    {
      "cell_type": "markdown",
      "source": [
        "# Intro\n",
        "\n",
        "Machine learning allows the user to feed a computer algorithm an immense amount of data and have the computer analyze and make data-driven recommendations and decisions based on only the input data. \n",
        "In most of the situations we want to have a machine learning system to make **predictions**, so we have several categories of machine learning tasks depending on the type of prediction needed: **Classification, Regression, Clustering, Generation**, etc.\n",
        "\n",
        "**Classification** is the task whose goal is the prediction of the label of the class to which the input belongs (e.g., Classification of images in two classes: cats and dogs).\n",
        "**Regression** is the task whose goal is the prediction of numerical value(s) related to the input (e.g., House rent prediction, Estimated time of arrival ).\n",
        "**Generation** is the task whose goal is the creation of something new related to the input (e.g., Text translation, Audio beat generation, Image denoising ). **Clustering** is the task of grouping a set of objects in such a way that objects in the same group (called a **cluster**) are more similar (in some sense) to each other than to those in other **clusters** (e.g., Clients clutering).\n",
        "\n"
      ],
      "metadata": {
        "id": "wW3v1-2n3CzK"
      }
    },
    {
      "cell_type": "markdown",
      "source": [
        "# Setup"
      ],
      "metadata": {
        "id": "n4VFUnkuexCE"
      }
    },
    {
      "cell_type": "markdown",
      "source": [
        "## Installation"
      ],
      "metadata": {
        "id": "qdFpRxPje1gw"
      }
    },
    {
      "cell_type": "code",
      "source": [
        "!pip install -q <lib_001> <lib_002> ..."
      ],
      "metadata": {
        "id": "W-d-roFQe6yi"
      },
      "execution_count": null,
      "outputs": []
    },
    {
      "cell_type": "markdown",
      "source": [
        "## Importation"
      ],
      "metadata": {
        "id": "0HmLxlQre7HW"
      }
    },
    {
      "cell_type": "code",
      "source": [
        "# Data handling\n",
        "import pandas as pd\n",
        "\n",
        "# Vizualisation (Matplotlib, Plotly, Seaborn, etc. )\n",
        "...\n",
        "\n",
        "# EDA (pandas-profiling, etc. )\n",
        "...\n",
        "\n",
        "# Feature Processing (Scikit-learn processing, etc. )\n",
        "...\n",
        "\n",
        "# Machine Learning (Scikit-learn Estimators, Catboost, LightGBM, etc. )\n",
        "...\n",
        "\n",
        "# Hyperparameters Fine-tuning (Scikit-learn hp search, cross-validation, etc. )\n",
        "...\n",
        "\n",
        "# Other packages\n",
        "import os\n"
      ],
      "metadata": {
        "id": "MP62JaiKfCnS"
      },
      "execution_count": null,
      "outputs": []
    },
    {
      "cell_type": "markdown",
      "source": [
        "# Data Loading"
      ],
      "metadata": {
        "id": "UfOADQf0e9i1"
      }
    },
    {
      "cell_type": "code",
      "source": [],
      "metadata": {
        "id": "KIQyG5EcfQlU"
      },
      "execution_count": null,
      "outputs": []
    },
    {
      "cell_type": "markdown",
      "source": [
        "# Exploratory Data Analysis: EDA"
      ],
      "metadata": {
        "id": "okaZxnc3fRId"
      }
    },
    {
      "cell_type": "code",
      "source": [],
      "metadata": {
        "id": "0VNR9LfZfbGe"
      },
      "execution_count": null,
      "outputs": []
    },
    {
      "cell_type": "markdown",
      "source": [
        "# Feature Engineering"
      ],
      "metadata": {
        "id": "R8WB7j-3fxzL"
      }
    },
    {
      "cell_type": "markdown",
      "source": [
        "## Impute Missing Values"
      ],
      "metadata": {
        "id": "dLJuYG_JgBH8"
      }
    },
    {
      "cell_type": "code",
      "source": [],
      "metadata": {
        "id": "52POL1F8gLEa"
      },
      "execution_count": null,
      "outputs": []
    },
    {
      "cell_type": "markdown",
      "source": [
        "## New Features Creation"
      ],
      "metadata": {
        "id": "vOoXNG6lgLVD"
      }
    },
    {
      "cell_type": "code",
      "execution_count": null,
      "metadata": {
        "id": "fU5RQ0itegd4"
      },
      "outputs": [],
      "source": []
    },
    {
      "cell_type": "markdown",
      "source": [
        "## Features Encoding\n",
        "\n",
        "\n"
      ],
      "metadata": {
        "id": "eYkNdwQ-gRod"
      }
    },
    {
      "cell_type": "code",
      "source": [],
      "metadata": {
        "id": "99vphpwPgbUw"
      },
      "execution_count": null,
      "outputs": []
    },
    {
      "cell_type": "markdown",
      "source": [
        "## Dataset Splitting"
      ],
      "metadata": {
        "id": "wxYGw6zug8lI"
      }
    },
    {
      "cell_type": "code",
      "source": [],
      "metadata": {
        "id": "cbsbMbs1hDzo"
      },
      "execution_count": null,
      "outputs": []
    },
    {
      "cell_type": "markdown",
      "source": [
        "## Features Scaling\n"
      ],
      "metadata": {
        "id": "Q0TvhRVghEcP"
      }
    },
    {
      "cell_type": "code",
      "source": [],
      "metadata": {
        "id": "pf6WtuHphLBE"
      },
      "execution_count": null,
      "outputs": []
    },
    {
      "cell_type": "markdown",
      "source": [
        "## Optional: Train Dataset Balancing "
      ],
      "metadata": {
        "id": "4-UlAVv4iYz8"
      }
    },
    {
      "cell_type": "code",
      "source": [],
      "metadata": {
        "id": "ySLn254IiujE"
      },
      "execution_count": null,
      "outputs": []
    },
    {
      "cell_type": "markdown",
      "source": [
        "# Machine Learning Modeling "
      ],
      "metadata": {
        "id": "WloQgMqqf6bT"
      }
    },
    {
      "cell_type": "markdown",
      "source": [
        "## Simple Model #001"
      ],
      "metadata": {
        "id": "tTiiqCnG1FA2"
      }
    },
    {
      "cell_type": "markdown",
      "source": [
        "### Create the Moedel"
      ],
      "metadata": {
        "id": "46li5Z2z1ME7"
      }
    },
    {
      "cell_type": "code",
      "source": [],
      "metadata": {
        "id": "1Fjv6pJt1uoV"
      },
      "execution_count": null,
      "outputs": []
    },
    {
      "cell_type": "markdown",
      "source": [
        "### Fit on the Trainset"
      ],
      "metadata": {
        "id": "XwHqTKk11U5f"
      }
    },
    {
      "cell_type": "code",
      "source": [],
      "metadata": {
        "id": "fgsct6LH1v9e"
      },
      "execution_count": null,
      "outputs": []
    },
    {
      "cell_type": "markdown",
      "source": [
        "### Evaluate the Model on the Evaluation dataset (Evalset)"
      ],
      "metadata": {
        "id": "M6aXGMEf1Yra"
      }
    },
    {
      "cell_type": "code",
      "source": [],
      "metadata": {
        "id": "9XBrsspR1wso"
      },
      "execution_count": null,
      "outputs": []
    },
    {
      "cell_type": "markdown",
      "source": [
        "### Predict on a unknown dataset (Testset)"
      ],
      "metadata": {
        "id": "001NdcP11dMu"
      }
    },
    {
      "cell_type": "code",
      "source": [],
      "metadata": {
        "id": "mWnGeGn0i3b0"
      },
      "execution_count": null,
      "outputs": []
    },
    {
      "cell_type": "markdown",
      "source": [
        "# Export your k best Machine Learning Model(s)"
      ],
      "metadata": {
        "id": "I_7_gsrX2VSk"
      }
    },
    {
      "cell_type": "code",
      "source": [],
      "metadata": {
        "id": "32mviWyGAMqP"
      },
      "execution_count": null,
      "outputs": []
    }
  ]
}